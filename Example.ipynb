{
 "cells": [
  {
   "cell_type": "code",
   "execution_count": 1,
   "metadata": {
    "collapsed": true
   },
   "outputs": [],
   "source": [
    "#Example for video downloaded \n",
    "#https://docs.python.org/3/library/shutil.html →for copy files\n",
    "import requests,shutil\n",
    "res=requests.get('https://r6---sn-ipoxu-u2xl.googlevideo.com/videoplayback?ratebypass=yes&fexp=9416126%2C9416891%2C9420452%2C9422596%2C9423662%2C9426927%2C9427902%2C9428398&ipbits=0&key=yt6&requiressl=yes&sver=3&sparams=dur%2Cid%2Cinitcwndbps%2Cip%2Cipbits%2Citag%2Clmt%2Cmime%2Cmm%2Cmn%2Cms%2Cmv%2Cpl%2Cratebypass%2Crequiressl%2Csource%2Cupn%2Cexpire&expire=1460378213&lmt=1459838467464398&upn=l2DaDvbXaoY&dur=631.025&initcwndbps=4512500&id=o-APgcd2l9Zd6kL-Mq5KPe6rgq-yc8ol8jXgXrOdEuueGE&pl=26&source=youtube&mv=m&mime=video%2Fmp4&ms=au&signature=105E96D1EBCC923AA3E1FB7A20C927BCE318969A.58F51EB8A9AA8E06A03CCF9DF6DA889DD5739ED4&mm=31&ip=210.69.170.90&mn=sn-ipoxu-u2xl&mt=1460356467&itag=22',stream=True)\n",
    "#On Windows, 'b' appended to the mode opens the file in binary mode, so there are also modes like 'rb', 'wb', and 'r+b'\n",
    "with open('D://7 Things We Dont Know About the Ocean.mp4','wb') as f:\n",
    "    shutil.copyfileobj(res.raw,f)\n",
    "\n",
    "f.close()"
   ]
  },
  {
   "cell_type": "code",
   "execution_count": null,
   "metadata": {
    "collapsed": true
   },
   "outputs": [],
   "source": []
  }
 ],
 "metadata": {
  "kernelspec": {
   "display_name": "Python 3",
   "language": "python",
   "name": "python3"
  },
  "language_info": {
   "codemirror_mode": {
    "name": "ipython",
    "version": 3
   },
   "file_extension": ".py",
   "mimetype": "text/x-python",
   "name": "python",
   "nbconvert_exporter": "python",
   "pygments_lexer": "ipython3",
   "version": "3.5.1"
  }
 },
 "nbformat": 4,
 "nbformat_minor": 0
}
